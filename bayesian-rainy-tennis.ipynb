{
 "cells": [
  {
   "cell_type": "markdown",
   "metadata": {},
   "source": [
    "<h1>DSM100\n",
    "Artificial Intelligence\n",
    "Jupyter Notebook</h1>\n"
   ]
  },
  {
   "cell_type": "markdown",
   "metadata": {},
   "source": [
    "<h3>1.Overall Structure</h3>"
   ]
  },
  {
   "cell_type": "markdown",
   "metadata": {},
   "source": [
    "<h5>1.1 Main entities</h5>\n",
    "strange weather -> rainy, cloudy -> playable\n",
    "\n",
    "<h5>1.2 Strange weather </h5>\n",
    "P(strange weather) = 0.6\n",
    "\n",
    "<h5>1.3 Rainy </h5>\n",
    "P(Rainy | strange weather) = 0.6<br>\n",
    "P(Rainy | not strange weather) = 0.1<br>\n",
    "P(not Rainy | strange weather) = 0.4<br>\n",
    "P(not Rainy | not strange weather) = 0.9<br>\n",
    "\n",
    "<h5>1.4 Cloudy </h5>\n",
    "P(Cloudy | strange weather) = 0.9<br>\n",
    "P(Cloudy | not strange weather) = 0.3<br>\n",
    "P(not Cloudy | strange weather) = 0.1<br>\n",
    "P(not Cloudy | not strange weather) = 0.7<br>\n",
    "\n",
    "\n",
    "<h5>1.5 Playable </h5>\n",
    "P(Playbable | Yes Rainy, Yes Cloudy) = 0.01<br>\n",
    "P(Playbable | Yes Rainy, No Cloudy) = 0.2<br>\n",
    "P(Playbable | No Rainy, Yes Cloudy) = 0.8<br>\n",
    "P(Playbable | No Rainy, No Cloudy) = 0.99<br>"
   ]
  },
  {
   "cell_type": "markdown",
   "metadata": {},
   "source": [
    "<h3>2. Implementation</h3>"
   ]
  },
  {
   "cell_type": "markdown",
   "metadata": {},
   "source": [
    "<h5>2.1 Import requirements</h5>\n",
    "\n",
    "Importing required methods from pgmpy. "
   ]
  },
  {
   "cell_type": "code",
   "execution_count": 3,
   "metadata": {},
   "outputs": [],
   "source": [
    "import numpy as np\n"
   ]
  },
  {
   "cell_type": "code",
   "execution_count": 4,
   "metadata": {},
   "outputs": [],
   "source": [
    "from pgmpy.factors.discrete import TabularCPD"
   ]
  },
  {
   "cell_type": "code",
   "execution_count": 5,
   "metadata": {},
   "outputs": [],
   "source": [
    "from pgmpy.models import BayesianModel"
   ]
  },
  {
   "cell_type": "markdown",
   "metadata": {},
   "source": [
    "<h5>2.2 Initiating Model</h5> \n",
    "\n",
    "Defining model structure. Here a list of edges is passed. "
   ]
  },
  {
   "cell_type": "code",
   "execution_count": 6,
   "metadata": {},
   "outputs": [
    {
     "name": "stderr",
     "output_type": "stream",
     "text": [
      "C:\\Users\\KK\\anaconda3\\lib\\site-packages\\pgmpy\\models\\BayesianModel.py:10: FutureWarning: BayesianModel has been renamed to BayesianNetwork. Please use BayesianNewtork class, BayesianModel will be removed in future.\n",
      "  FutureWarning,\n"
     ]
    }
   ],
   "source": [
    "tennis_model = BayesianModel([('Strange Weather', 'Rainy'),\n",
    "                              ('Strange Weather', 'Cloudy'),\n",
    "                              ('Rainy', 'Playable'),\n",
    "                              ('Cloudy', 'Playable')])"
   ]
  },
  {
   "cell_type": "markdown",
   "metadata": {},
   "source": [
    "<h5>2.3 CPD's</h5>\n",
    "\n",
    "Defining all conditional probabilites tables from the graphical representation show in the report or in the overview at the beginning of the notebook. The CPD's are fromed by a method called TabularCPD."
   ]
  },
  {
   "cell_type": "code",
   "execution_count": 7,
   "metadata": {},
   "outputs": [],
   "source": [
    "strangeweather_cpd = TabularCPD(\n",
    "    variable = 'Strange Weather',\n",
    "    variable_card = 2,   # cardinality\n",
    "    values = [[.6], [.4]])   # ['yes', 'no']"
   ]
  },
  {
   "cell_type": "code",
   "execution_count": 8,
   "metadata": {},
   "outputs": [],
   "source": [
    "rainy_cpd = TabularCPD(\n",
    "    variable = 'Rainy',\n",
    "    variable_card = 2,\n",
    "    values = [[.7, .1],\n",
    "              [.3, .9]],\n",
    "    evidence = ['Strange Weather'],\n",
    "    evidence_card = [2])"
   ]
  },
  {
   "cell_type": "code",
   "execution_count": 9,
   "metadata": {},
   "outputs": [],
   "source": [
    "cloudy_cpd = TabularCPD(\n",
    "    variable = 'Cloudy',\n",
    "    variable_card = 2,\n",
    "    values = [[.9, .3],\n",
    "              [.1, .7]],\n",
    "    evidence = ['Strange Weather'],\n",
    "    evidence_card = [2])"
   ]
  },
  {
   "cell_type": "code",
   "execution_count": 10,
   "metadata": {},
   "outputs": [],
   "source": [
    "playable_cpd = TabularCPD(\n",
    "    variable = 'Playable',\n",
    "    variable_card = 2,\n",
    "    values = [[0.01, .20, .80, 0.99],\n",
    "              [0.99, .80, .20, 0.01]],\n",
    "    evidence = ['Rainy', 'Cloudy'],\n",
    "    evidence_card = [2,2])"
   ]
  },
  {
   "cell_type": "markdown",
   "metadata": {},
   "source": [
    "<h5>2.4 Visualize the CPD</h5>\n",
    "\n",
    "Printing the \"playable\" conditional probability distribution by calling the method get_cpds and printing. "
   ]
  },
  {
   "cell_type": "code",
   "execution_count": 11,
   "metadata": {},
   "outputs": [],
   "source": [
    "tennis_model.add_cpds(strangeweather_cpd, rainy_cpd, cloudy_cpd, playable_cpd)"
   ]
  },
  {
   "cell_type": "code",
   "execution_count": 12,
   "metadata": {},
   "outputs": [
    {
     "data": {
      "text/plain": [
       "[<TabularCPD representing P(Strange Weather:2) at 0x2119cccd3c8>,\n",
       " <TabularCPD representing P(Rainy:2 | Strange Weather:2) at 0x2119ccd00c8>,\n",
       " <TabularCPD representing P(Cloudy:2 | Strange Weather:2) at 0x2119ccd0748>,\n",
       " <TabularCPD representing P(Playable:2 | Rainy:2, Cloudy:2) at 0x2119ccd3648>]"
      ]
     },
     "execution_count": 12,
     "metadata": {},
     "output_type": "execute_result"
    }
   ],
   "source": [
    "tennis_model.get_cpds()"
   ]
  },
  {
   "cell_type": "code",
   "execution_count": 43,
   "metadata": {},
   "outputs": [
    {
     "name": "stdout",
     "output_type": "stream",
     "text": [
      "+-------------+-----------+-----------+-----------+-----------+\n",
      "| Rainy       | Rainy(0)  | Rainy(0)  | Rainy(1)  | Rainy(1)  |\n",
      "+-------------+-----------+-----------+-----------+-----------+\n",
      "| Cloudy      | Cloudy(0) | Cloudy(1) | Cloudy(0) | Cloudy(1) |\n",
      "+-------------+-----------+-----------+-----------+-----------+\n",
      "| Playable(0) | 0.01      | 0.2       | 0.8       | 0.99      |\n",
      "+-------------+-----------+-----------+-----------+-----------+\n",
      "| Playable(1) | 0.99      | 0.8       | 0.2       | 0.01      |\n",
      "+-------------+-----------+-----------+-----------+-----------+\n"
     ]
    }
   ],
   "source": [
    "# Printing a CPD with it's state names defined.\n",
    "print(tennis_model.get_cpds('Playable'))"
   ]
  },
  {
   "cell_type": "markdown",
   "metadata": {},
   "source": [
    "<h5>2.5 Active Trail and Local Independencies</h5>\n",
    "\n",
    "Firstly, we find an active trail. That means that for any two variables A and B in the network, if a change in A influences values B, then there is an active trail. Here one can see which nodes are affected by \"Strange Weather\". \n",
    "\n",
    "Secondly, we find the independencies given in the network. Here local independencies show a variable which is independent of its non-descendents given its parents. Thus showing here for example that \"playable\" is affected by \"strange weather\", which is affected by \"rainy\" and \"cloudy\". "
   ]
  },
  {
   "cell_type": "code",
   "execution_count": 13,
   "metadata": {},
   "outputs": [
    {
     "data": {
      "text/plain": [
       "{'Strange Weather': {'Cloudy', 'Playable', 'Rainy', 'Strange Weather'}}"
      ]
     },
     "execution_count": 13,
     "metadata": {},
     "output_type": "execute_result"
    }
   ],
   "source": [
    "tennis_model.active_trail_nodes('Strange Weather')"
   ]
  },
  {
   "cell_type": "code",
   "execution_count": 14,
   "metadata": {},
   "outputs": [
    {
     "data": {
      "text/plain": []
     },
     "execution_count": 14,
     "metadata": {},
     "output_type": "execute_result"
    }
   ],
   "source": [
    "tennis_model.local_independencies('Strange Weather')"
   ]
  },
  {
   "cell_type": "code",
   "execution_count": 15,
   "metadata": {},
   "outputs": [
    {
     "data": {
      "text/plain": [
       "(Playable ⟂ Strange Weather | Rainy, Cloudy)\n",
       "(Strange Weather ⟂ Playable | Rainy, Cloudy)\n",
       "(Rainy ⟂ Cloudy | Strange Weather)\n",
       "(Cloudy ⟂ Rainy | Strange Weather)"
      ]
     },
     "execution_count": 15,
     "metadata": {},
     "output_type": "execute_result"
    }
   ],
   "source": [
    "tennis_model.get_independencies()"
   ]
  },
  {
   "cell_type": "markdown",
   "metadata": {},
   "source": [
    "<h5>2.6 Inference from the model</h5>\n",
    "\n",
    "Now comes the interesting part. Here the prediction of values will take place with a basic method called \"Variable Elimination\". \n",
    "\n",
    "Then one can see the probabilities. For example the probabilities for \"playable\" are 0.5012 and 0.4988 respectively. The same process is done for the variables \"Rainy\", \"Cloudy\" and \"Strange Weather\". \n",
    "\n",
    "Further down the conditional distribution will also be computed, there one must just pass an additional argument. For example variabel \"Playable\", evidence \"Strange Weather\", shows that that the probability is 0.2660 that the courts are playable if there is strange weather and 0.7340 respectively. "
   ]
  },
  {
   "cell_type": "code",
   "execution_count": 16,
   "metadata": {},
   "outputs": [],
   "source": [
    "from pgmpy.inference import VariableElimination"
   ]
  },
  {
   "cell_type": "code",
   "execution_count": 17,
   "metadata": {},
   "outputs": [],
   "source": [
    "tennis_infer = VariableElimination(tennis_model)"
   ]
  },
  {
   "cell_type": "markdown",
   "metadata": {},
   "source": [
    "<h6>2.6.1 Inference \"Playable\"</h6>"
   ]
  },
  {
   "cell_type": "code",
   "execution_count": 18,
   "metadata": {},
   "outputs": [
    {
     "data": {
      "application/vnd.jupyter.widget-view+json": {
       "model_id": "5a4971d904d94e31b67c53756eaba09b",
       "version_major": 2,
       "version_minor": 0
      },
      "text/plain": [
       "HBox(children=(FloatProgress(value=0.0, max=3.0), HTML(value='')))"
      ]
     },
     "metadata": {},
     "output_type": "display_data"
    },
    {
     "data": {
      "application/vnd.jupyter.widget-view+json": {
       "model_id": "cf3a49141f1d4fef9bd894c48a8202e5",
       "version_major": 2,
       "version_minor": 0
      },
      "text/plain": [
       "HBox(children=(FloatProgress(value=0.0, max=3.0), HTML(value='')))"
      ]
     },
     "metadata": {},
     "output_type": "display_data"
    },
    {
     "name": "stdout",
     "output_type": "stream",
     "text": [
      "\n"
     ]
    }
   ],
   "source": [
    "prob_playable = tennis_infer.query(variables = ['Playable'], joint=False)"
   ]
  },
  {
   "cell_type": "code",
   "execution_count": 19,
   "metadata": {},
   "outputs": [
    {
     "name": "stdout",
     "output_type": "stream",
     "text": [
      "+-------------+-----------------+\n",
      "| Playable    |   phi(Playable) |\n",
      "+=============+=================+\n",
      "| Playable(0) |          0.5012 |\n",
      "+-------------+-----------------+\n",
      "| Playable(1) |          0.4988 |\n",
      "+-------------+-----------------+\n"
     ]
    }
   ],
   "source": [
    "print(prob_playable['Playable'])"
   ]
  },
  {
   "cell_type": "markdown",
   "metadata": {},
   "source": [
    "<h6>2.6.2 Inference \"Rainy\"</h6>"
   ]
  },
  {
   "cell_type": "code",
   "execution_count": 20,
   "metadata": {},
   "outputs": [
    {
     "data": {
      "application/vnd.jupyter.widget-view+json": {
       "model_id": "73d6a8e108fd4789a783cd0f68ec16b5",
       "version_major": 2,
       "version_minor": 0
      },
      "text/plain": [
       "HBox(children=(FloatProgress(value=0.0, max=1.0), HTML(value='')))"
      ]
     },
     "metadata": {},
     "output_type": "display_data"
    },
    {
     "data": {
      "application/vnd.jupyter.widget-view+json": {
       "model_id": "752e681520c54191966545654413c515",
       "version_major": 2,
       "version_minor": 0
      },
      "text/plain": [
       "HBox(children=(FloatProgress(value=0.0, max=1.0), HTML(value='')))"
      ]
     },
     "metadata": {},
     "output_type": "display_data"
    },
    {
     "name": "stdout",
     "output_type": "stream",
     "text": [
      "\n"
     ]
    }
   ],
   "source": [
    "prob_rainy = tennis_infer.query(variables = ['Rainy'], joint=False)"
   ]
  },
  {
   "cell_type": "code",
   "execution_count": 21,
   "metadata": {},
   "outputs": [
    {
     "name": "stdout",
     "output_type": "stream",
     "text": [
      "+----------+--------------+\n",
      "| Rainy    |   phi(Rainy) |\n",
      "+==========+==============+\n",
      "| Rainy(0) |       0.4600 |\n",
      "+----------+--------------+\n",
      "| Rainy(1) |       0.5400 |\n",
      "+----------+--------------+\n"
     ]
    }
   ],
   "source": [
    "print(prob_rainy['Rainy'])"
   ]
  },
  {
   "cell_type": "markdown",
   "metadata": {},
   "source": [
    "<h6>2.6.3 Inference \"Cloudy\"</h6>"
   ]
  },
  {
   "cell_type": "code",
   "execution_count": 22,
   "metadata": {},
   "outputs": [
    {
     "name": "stdout",
     "output_type": "stream",
     "text": [
      "\n"
     ]
    },
    {
     "data": {
      "application/vnd.jupyter.widget-view+json": {
       "model_id": "8cbdde38441340018dc025db4d9b3aac",
       "version_major": 2,
       "version_minor": 0
      },
      "text/plain": [
       "HBox(children=(FloatProgress(value=0.0, max=1.0), HTML(value='')))"
      ]
     },
     "metadata": {},
     "output_type": "display_data"
    },
    {
     "data": {
      "application/vnd.jupyter.widget-view+json": {
       "model_id": "3d934defba4f40c1af8cac37aa116cc6",
       "version_major": 2,
       "version_minor": 0
      },
      "text/plain": [
       "HBox(children=(FloatProgress(value=0.0, max=1.0), HTML(value='')))"
      ]
     },
     "metadata": {},
     "output_type": "display_data"
    },
    {
     "name": "stdout",
     "output_type": "stream",
     "text": [
      "\n"
     ]
    }
   ],
   "source": [
    "prob_cloudy = tennis_infer.query(variables = ['Cloudy'], joint=False)"
   ]
  },
  {
   "cell_type": "code",
   "execution_count": 23,
   "metadata": {},
   "outputs": [
    {
     "name": "stdout",
     "output_type": "stream",
     "text": [
      "+-----------+---------------+\n",
      "| Cloudy    |   phi(Cloudy) |\n",
      "+===========+===============+\n",
      "| Cloudy(0) |        0.6600 |\n",
      "+-----------+---------------+\n",
      "| Cloudy(1) |        0.3400 |\n",
      "+-----------+---------------+\n"
     ]
    }
   ],
   "source": [
    "print(prob_cloudy['Cloudy'])"
   ]
  },
  {
   "cell_type": "markdown",
   "metadata": {},
   "source": [
    "<h6>2.6.4 Inference \"Strange Weather\"</h6>"
   ]
  },
  {
   "cell_type": "code",
   "execution_count": 24,
   "metadata": {},
   "outputs": [
    {
     "data": {
      "application/vnd.jupyter.widget-view+json": {
       "model_id": "7f9c575a05b241be897f55ce57dff098",
       "version_major": 2,
       "version_minor": 0
      },
      "text/plain": [
       "HBox(children=(FloatProgress(value=1.0, bar_style='info', max=1.0), HTML(value='')))"
      ]
     },
     "metadata": {},
     "output_type": "display_data"
    },
    {
     "data": {
      "application/vnd.jupyter.widget-view+json": {
       "model_id": "75cf52029195466895ea10f7a6529593",
       "version_major": 2,
       "version_minor": 0
      },
      "text/plain": [
       "HBox(children=(FloatProgress(value=1.0, bar_style='info', max=1.0), HTML(value='')))"
      ]
     },
     "metadata": {},
     "output_type": "display_data"
    },
    {
     "name": "stdout",
     "output_type": "stream",
     "text": [
      "\n"
     ]
    }
   ],
   "source": [
    "prob_strangeweather = tennis_infer.query(variables = ['Strange Weather'], joint=False)"
   ]
  },
  {
   "cell_type": "code",
   "execution_count": 25,
   "metadata": {},
   "outputs": [
    {
     "name": "stdout",
     "output_type": "stream",
     "text": [
      "+--------------------+------------------------+\n",
      "| Strange Weather    |   phi(Strange Weather) |\n",
      "+====================+========================+\n",
      "| Strange Weather(0) |                 0.6000 |\n",
      "+--------------------+------------------------+\n",
      "| Strange Weather(1) |                 0.4000 |\n",
      "+--------------------+------------------------+\n"
     ]
    }
   ],
   "source": [
    "print(prob_strangeweather['Strange Weather'])"
   ]
  },
  {
   "cell_type": "markdown",
   "metadata": {},
   "source": [
    "<h6>2.6.5 Conditional Distribution \"Playable\", \"Strange Weather\"</h6>"
   ]
  },
  {
   "cell_type": "code",
   "execution_count": 26,
   "metadata": {},
   "outputs": [
    {
     "data": {
      "application/vnd.jupyter.widget-view+json": {
       "model_id": "ef4a4fedee5e41ed9fb4cdcaa8c3880e",
       "version_major": 2,
       "version_minor": 0
      },
      "text/plain": [
       "HBox(children=(FloatProgress(value=0.0, max=2.0), HTML(value='')))"
      ]
     },
     "metadata": {},
     "output_type": "display_data"
    },
    {
     "data": {
      "application/vnd.jupyter.widget-view+json": {
       "model_id": "80268ddcb0ac42ba938a4ecf4809196a",
       "version_major": 2,
       "version_minor": 0
      },
      "text/plain": [
       "HBox(children=(FloatProgress(value=0.0, max=2.0), HTML(value='')))"
      ]
     },
     "metadata": {},
     "output_type": "display_data"
    },
    {
     "name": "stdout",
     "output_type": "stream",
     "text": [
      "\n"
     ]
    }
   ],
   "source": [
    "prob_playable_strangeweather = tennis_infer.query(\n",
    "        variables = ['Playable'], joint=False,\n",
    "        evidence = {'Strange Weather':0})"
   ]
  },
  {
   "cell_type": "code",
   "execution_count": 27,
   "metadata": {},
   "outputs": [
    {
     "name": "stdout",
     "output_type": "stream",
     "text": [
      "+-------------+-----------------+\n",
      "| Playable    |   phi(Playable) |\n",
      "+=============+=================+\n",
      "| Playable(0) |          0.2660 |\n",
      "+-------------+-----------------+\n",
      "| Playable(1) |          0.7340 |\n",
      "+-------------+-----------------+\n"
     ]
    }
   ],
   "source": [
    "print(prob_playable_strangeweather['Playable'])"
   ]
  },
  {
   "cell_type": "markdown",
   "metadata": {},
   "source": [
    "<h6>2.6.6 Conditional Distribution \"Rainy\", \"Strange Weather\"</h6>"
   ]
  },
  {
   "cell_type": "code",
   "execution_count": 47,
   "metadata": {},
   "outputs": [
    {
     "data": {
      "application/vnd.jupyter.widget-view+json": {
       "model_id": "5859348d6c22464f8805dbf37523280c",
       "version_major": 2,
       "version_minor": 0
      },
      "text/plain": [
       "HBox(children=(FloatProgress(value=1.0, bar_style='info', max=1.0), HTML(value='')))"
      ]
     },
     "metadata": {},
     "output_type": "display_data"
    },
    {
     "name": "stdout",
     "output_type": "stream",
     "text": [
      "\n"
     ]
    },
    {
     "data": {
      "application/vnd.jupyter.widget-view+json": {
       "model_id": "4659b3a740aa44f5a69d43daa02579dd",
       "version_major": 2,
       "version_minor": 0
      },
      "text/plain": [
       "HBox(children=(FloatProgress(value=1.0, bar_style='info', max=1.0), HTML(value='')))"
      ]
     },
     "metadata": {},
     "output_type": "display_data"
    },
    {
     "name": "stdout",
     "output_type": "stream",
     "text": [
      "\n"
     ]
    }
   ],
   "source": [
    "prob_rainy_strangeweather = tennis_infer.query(\n",
    "        variables = ['Rainy'], joint=False,\n",
    "        evidence = {'Strange Weather':0})"
   ]
  },
  {
   "cell_type": "code",
   "execution_count": 48,
   "metadata": {},
   "outputs": [
    {
     "name": "stdout",
     "output_type": "stream",
     "text": [
      "+----------+--------------+\n",
      "| Rainy    |   phi(Rainy) |\n",
      "+==========+==============+\n",
      "| Rainy(0) |       0.7000 |\n",
      "+----------+--------------+\n",
      "| Rainy(1) |       0.3000 |\n",
      "+----------+--------------+\n"
     ]
    }
   ],
   "source": [
    "print(prob_rainy_strangeweather['Rainy'])"
   ]
  },
  {
   "cell_type": "markdown",
   "metadata": {},
   "source": [
    "<h6>2.6.7 Conditional Distribution \"Cloudy\", \"Strange Weather\"</h6>"
   ]
  },
  {
   "cell_type": "code",
   "execution_count": 30,
   "metadata": {},
   "outputs": [
    {
     "name": "stdout",
     "output_type": "stream",
     "text": [
      "\n",
      "\n"
     ]
    },
    {
     "data": {
      "application/vnd.jupyter.widget-view+json": {
       "model_id": "83567c99c9344c92ac00e7a34fdda573",
       "version_major": 2,
       "version_minor": 0
      },
      "text/plain": [
       "HBox(children=(FloatProgress(value=1.0, bar_style='info', max=1.0), HTML(value='')))"
      ]
     },
     "metadata": {},
     "output_type": "display_data"
    },
    {
     "data": {
      "application/vnd.jupyter.widget-view+json": {
       "model_id": "7991fc166f0f4fda889a7664fe3ad3f7",
       "version_major": 2,
       "version_minor": 0
      },
      "text/plain": [
       "HBox(children=(FloatProgress(value=1.0, bar_style='info', max=1.0), HTML(value='')))"
      ]
     },
     "metadata": {},
     "output_type": "display_data"
    },
    {
     "name": "stdout",
     "output_type": "stream",
     "text": [
      "\n"
     ]
    }
   ],
   "source": [
    "prob_cloudy_strangeweather = tennis_infer.query(\n",
    "        variables = ['Cloudy'], joint=False,\n",
    "        evidence = {'Strange Weather':0})"
   ]
  },
  {
   "cell_type": "code",
   "execution_count": 31,
   "metadata": {},
   "outputs": [
    {
     "name": "stdout",
     "output_type": "stream",
     "text": [
      "+-----------+---------------+\n",
      "| Cloudy    |   phi(Cloudy) |\n",
      "+===========+===============+\n",
      "| Cloudy(0) |        0.9000 |\n",
      "+-----------+---------------+\n",
      "| Cloudy(1) |        0.1000 |\n",
      "+-----------+---------------+\n"
     ]
    }
   ],
   "source": [
    "print(prob_cloudy_strangeweather['Cloudy'])"
   ]
  },
  {
   "cell_type": "markdown",
   "metadata": {},
   "source": [
    "<h6>2.6.8 Map Query</h6>\n",
    "\n",
    "Finally, the most probable state rather than the probability distribution must be found out. For that we will use two variable as evidence. For example the most probable state for \"playable\" is that it is not playable. This is done with a method called map_query. Here it shows that if there is strange weather and it is rainy, then most probably it is not playable. Same goes for cloudy."
   ]
  },
  {
   "cell_type": "code",
   "execution_count": 53,
   "metadata": {},
   "outputs": [
    {
     "data": {
      "application/vnd.jupyter.widget-view+json": {
       "model_id": "4e4121903797421fbad59c31f1722635",
       "version_major": 2,
       "version_minor": 0
      },
      "text/plain": [
       "HBox(children=(FloatProgress(value=0.0, max=1.0), HTML(value='')))"
      ]
     },
     "metadata": {},
     "output_type": "display_data"
    },
    {
     "data": {
      "application/vnd.jupyter.widget-view+json": {
       "model_id": "fb539bae85eb4e6fa652e035ea3d045c",
       "version_major": 2,
       "version_minor": 0
      },
      "text/plain": [
       "HBox(children=(FloatProgress(value=0.0, max=1.0), HTML(value='')))"
      ]
     },
     "metadata": {},
     "output_type": "display_data"
    },
    {
     "name": "stdout",
     "output_type": "stream",
     "text": [
      "\n"
     ]
    }
   ],
   "source": [
    "prob_strangeweather_playable_rainy = tennis_infer.map_query(\n",
    "        variables = ['Playable'],\n",
    "        evidence = {'Strange Weather':0, 'Rainy':0})"
   ]
  },
  {
   "cell_type": "code",
   "execution_count": 54,
   "metadata": {},
   "outputs": [
    {
     "name": "stdout",
     "output_type": "stream",
     "text": [
      "1\n"
     ]
    }
   ],
   "source": [
    "print(prob_strangeweather_playable_rainy['Playable'])"
   ]
  },
  {
   "cell_type": "code",
   "execution_count": 58,
   "metadata": {},
   "outputs": [
    {
     "data": {
      "application/vnd.jupyter.widget-view+json": {
       "model_id": "ec4b9a5d0c3c4dab8ddac66dd75a0192",
       "version_major": 2,
       "version_minor": 0
      },
      "text/plain": [
       "HBox(children=(FloatProgress(value=0.0, max=1.0), HTML(value='')))"
      ]
     },
     "metadata": {},
     "output_type": "display_data"
    },
    {
     "data": {
      "application/vnd.jupyter.widget-view+json": {
       "model_id": "188fd2660a5f41778ab5c034fb4ee0e3",
       "version_major": 2,
       "version_minor": 0
      },
      "text/plain": [
       "HBox(children=(FloatProgress(value=0.0, max=1.0), HTML(value='')))"
      ]
     },
     "metadata": {},
     "output_type": "display_data"
    },
    {
     "name": "stdout",
     "output_type": "stream",
     "text": [
      "\n"
     ]
    }
   ],
   "source": [
    "prob_playable_strangeweather_cloudy = tennis_infer.map_query(\n",
    "        variables = ['Playable'],\n",
    "        evidence = {'Strange Weather':0, 'Cloudy':0})"
   ]
  },
  {
   "cell_type": "code",
   "execution_count": 59,
   "metadata": {},
   "outputs": [
    {
     "name": "stdout",
     "output_type": "stream",
     "text": [
      "1\n"
     ]
    }
   ],
   "source": [
    "print(prob_playable_strangeweather_cloudy['Playable'])"
   ]
  }
 ],
 "metadata": {
  "kernelspec": {
   "display_name": "Python 3",
   "language": "python",
   "name": "python3"
  },
  "language_info": {
   "codemirror_mode": {
    "name": "ipython",
    "version": 3
   },
   "file_extension": ".py",
   "mimetype": "text/x-python",
   "name": "python",
   "nbconvert_exporter": "python",
   "pygments_lexer": "ipython3",
   "version": "3.8.2"
  }
 },
 "nbformat": 4,
 "nbformat_minor": 4
}
